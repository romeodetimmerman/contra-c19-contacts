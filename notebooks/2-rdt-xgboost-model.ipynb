{
 "cells": [
  {
   "cell_type": "code",
   "execution_count": 1,
   "metadata": {},
   "outputs": [],
   "source": [
    "import pandas as pd\n",
    "import seaborn as sns\n",
    "import matplotlib.pyplot as plt\n",
    "import xgboost as xgb\n",
    "import optuna\n",
    "from sklearn.model_selection import train_test_split\n",
    "from sklearn.metrics import root_mean_squared_error"
   ]
  },
  {
   "cell_type": "code",
   "execution_count": 2,
   "metadata": {},
   "outputs": [
    {
     "data": {
      "text/html": [
       "<div>\n",
       "<style scoped>\n",
       "    .dataframe tbody tr th:only-of-type {\n",
       "        vertical-align: middle;\n",
       "    }\n",
       "\n",
       "    .dataframe tbody tr th {\n",
       "        vertical-align: top;\n",
       "    }\n",
       "\n",
       "    .dataframe thead th {\n",
       "        text-align: right;\n",
       "    }\n",
       "</style>\n",
       "<table border=\"1\" class=\"dataframe\">\n",
       "  <thead>\n",
       "    <tr style=\"text-align: right;\">\n",
       "      <th></th>\n",
       "      <th>AGE</th>\n",
       "      <th>DURATION_MIN</th>\n",
       "      <th>CONTACT_COUNT_TOTAL</th>\n",
       "      <th>SYMPTOMATIC</th>\n",
       "      <th>SYMPTOM_COUNT</th>\n",
       "    </tr>\n",
       "  </thead>\n",
       "  <tbody>\n",
       "    <tr>\n",
       "      <th>0</th>\n",
       "      <td>21.0</td>\n",
       "      <td>17.8</td>\n",
       "      <td>5</td>\n",
       "      <td>True</td>\n",
       "      <td>4</td>\n",
       "    </tr>\n",
       "    <tr>\n",
       "      <th>1</th>\n",
       "      <td>86.0</td>\n",
       "      <td>9.3</td>\n",
       "      <td>0</td>\n",
       "      <td>False</td>\n",
       "      <td>0</td>\n",
       "    </tr>\n",
       "    <tr>\n",
       "      <th>2</th>\n",
       "      <td>12.0</td>\n",
       "      <td>6.5</td>\n",
       "      <td>3</td>\n",
       "      <td>False</td>\n",
       "      <td>0</td>\n",
       "    </tr>\n",
       "    <tr>\n",
       "      <th>3</th>\n",
       "      <td>93.0</td>\n",
       "      <td>2.6</td>\n",
       "      <td>0</td>\n",
       "      <td>False</td>\n",
       "      <td>0</td>\n",
       "    </tr>\n",
       "    <tr>\n",
       "      <th>4</th>\n",
       "      <td>24.0</td>\n",
       "      <td>9.1</td>\n",
       "      <td>4</td>\n",
       "      <td>True</td>\n",
       "      <td>3</td>\n",
       "    </tr>\n",
       "  </tbody>\n",
       "</table>\n",
       "</div>"
      ],
      "text/plain": [
       "    AGE  DURATION_MIN  CONTACT_COUNT_TOTAL  SYMPTOMATIC  SYMPTOM_COUNT\n",
       "0  21.0          17.8                    5         True              4\n",
       "1  86.0           9.3                    0        False              0\n",
       "2  12.0           6.5                    3        False              0\n",
       "3  93.0           2.6                    0        False              0\n",
       "4  24.0           9.1                    4         True              3"
      ]
     },
     "execution_count": 2,
     "metadata": {},
     "output_type": "execute_result"
    }
   ],
   "source": [
    "# load data\n",
    "df = pd.read_csv(\"../data/processed/contra_contacts_processed.csv\")\n",
    "df.drop(columns=[\"DATE\", \"AGE_CATEGORY\"], inplace=True)\n",
    "df.head()"
   ]
  },
  {
   "cell_type": "code",
   "execution_count": 7,
   "metadata": {},
   "outputs": [],
   "source": [
    "# setting seed\n",
    "seed = 42\n",
    "\n",
    "# define target and predictor columns\n",
    "target_col = \"CONTACT_COUNT_TOTAL\"\n",
    "X = df.loc[:, df.columns != target_col]\n",
    "y = df.loc[:, target_col]"
   ]
  },
  {
   "cell_type": "code",
   "execution_count": 8,
   "metadata": {},
   "outputs": [],
   "source": [
    "# defining optuna optimizations study\n",
    "def objective(trial, data=X, target=y):\n",
    "    X_train, X_test, y_train, y_test = train_test_split(\n",
    "        X, y, test_size=0.3, random_state=seed\n",
    "    )\n",
    "\n",
    "    params = {\n",
    "        \"lambda\": trial.suggest_float(\"lambda\", 1e-3, 10.0),\n",
    "        \"alpha\": trial.suggest_float(\"alpha\", 1e-3, 10.0),\n",
    "        \"colsample_bytree\": trial.suggest_categorical(\n",
    "            \"colsample_bytree\", [0.3, 0.4, 0.5, 0.6, 0.7, 0.8, 0.9, 1.0]\n",
    "        ),\n",
    "        \"subsample\": trial.suggest_categorical(\n",
    "            \"subsample\", [0.4, 0.5, 0.6, 0.7, 0.8, 1.0]\n",
    "        ),\n",
    "        \"learning_rate\": trial.suggest_categorical(\n",
    "            \"learning_rate\", [0.008, 0.01, 0.012, 0.014, 0.016, 0.018, 0.02]\n",
    "        ),\n",
    "        \"n_estimators\": 10000,\n",
    "        \"max_depth\": trial.suggest_categorical(\"max_depth\", [5, 7, 9, 11, 13, 15, 17]),\n",
    "        \"random_state\": trial.suggest_categorical(\"random_state\", [2020]),\n",
    "        \"min_child_weight\": trial.suggest_int(\"min_child_weight\", 1, 300),\n",
    "    }\n",
    "\n",
    "    model = xgb.XGBRegressor(**params)\n",
    "\n",
    "    model.fit(X_train, y_train, eval_set=[(X_test, y_test)], verbose=False)\n",
    "\n",
    "    y_pred = model.predict(X_test)\n",
    "\n",
    "    rmse = root_mean_squared_error(y_test, y_pred)\n",
    "\n",
    "    return rmse"
   ]
  },
  {
   "cell_type": "code",
   "execution_count": 9,
   "metadata": {},
   "outputs": [
    {
     "name": "stderr",
     "output_type": "stream",
     "text": [
      "[I 2024-02-19 14:05:32,249] A new study created in memory with name: no-name-d56bcdc4-2b7e-41b8-9f67-f6b283bdac75\n",
      "[I 2024-02-19 14:06:04,961] Trial 0 finished with value: 2.2416799535379983 and parameters: {'lambda': 6.970411210243374, 'alpha': 0.6819516557395895, 'colsample_bytree': 1.0, 'subsample': 0.7, 'learning_rate': 0.008, 'max_depth': 5, 'random_state': 2020, 'min_child_weight': 167}. Best is trial 0 with value: 2.2416799535379983.\n",
      "[I 2024-02-19 14:07:08,642] Trial 1 finished with value: 2.307081604454937 and parameters: {'lambda': 8.048048387429079, 'alpha': 9.808825429721319, 'colsample_bytree': 0.8, 'subsample': 0.6, 'learning_rate': 0.008, 'max_depth': 11, 'random_state': 2020, 'min_child_weight': 40}. Best is trial 0 with value: 2.2416799535379983.\n",
      "[I 2024-02-19 14:08:46,893] Trial 2 finished with value: 2.4622087219792412 and parameters: {'lambda': 2.911287763590079, 'alpha': 3.936835194932718, 'colsample_bytree': 0.8, 'subsample': 0.5, 'learning_rate': 0.016, 'max_depth': 17, 'random_state': 2020, 'min_child_weight': 24}. Best is trial 0 with value: 2.2416799535379983.\n",
      "[I 2024-02-19 14:09:15,657] Trial 3 finished with value: 2.2480902755369834 and parameters: {'lambda': 2.484065700090125, 'alpha': 4.767543913571595, 'colsample_bytree': 0.3, 'subsample': 1.0, 'learning_rate': 0.01, 'max_depth': 5, 'random_state': 2020, 'min_child_weight': 187}. Best is trial 0 with value: 2.2416799535379983.\n",
      "[I 2024-02-19 14:10:01,969] Trial 4 finished with value: 2.253857288853599 and parameters: {'lambda': 3.6456165100169433, 'alpha': 9.635481911722913, 'colsample_bytree': 1.0, 'subsample': 0.6, 'learning_rate': 0.012, 'max_depth': 7, 'random_state': 2020, 'min_child_weight': 268}. Best is trial 0 with value: 2.2416799535379983.\n",
      "[I 2024-02-19 14:11:00,280] Trial 5 finished with value: 2.2491163506831695 and parameters: {'lambda': 0.1279412902442483, 'alpha': 8.403976228782177, 'colsample_bytree': 0.7, 'subsample': 1.0, 'learning_rate': 0.014, 'max_depth': 13, 'random_state': 2020, 'min_child_weight': 261}. Best is trial 0 with value: 2.2416799535379983.\n",
      "[I 2024-02-19 14:11:46,853] Trial 6 finished with value: 2.280609525913521 and parameters: {'lambda': 1.696318188672847, 'alpha': 7.89272560193515, 'colsample_bytree': 1.0, 'subsample': 0.4, 'learning_rate': 0.01, 'max_depth': 7, 'random_state': 2020, 'min_child_weight': 42}. Best is trial 0 with value: 2.2416799535379983.\n",
      "[I 2024-02-19 14:12:38,113] Trial 7 finished with value: 2.249663195976092 and parameters: {'lambda': 3.6903747307917456, 'alpha': 8.549494168620374, 'colsample_bytree': 0.3, 'subsample': 0.6, 'learning_rate': 0.016, 'max_depth': 17, 'random_state': 2020, 'min_child_weight': 59}. Best is trial 0 with value: 2.2416799535379983.\n",
      "[I 2024-02-19 14:13:09,834] Trial 8 finished with value: 2.2483619749548445 and parameters: {'lambda': 3.9304767031951022, 'alpha': 4.542930323088112, 'colsample_bytree': 0.4, 'subsample': 0.8, 'learning_rate': 0.014, 'max_depth': 5, 'random_state': 2020, 'min_child_weight': 257}. Best is trial 0 with value: 2.2416799535379983.\n",
      "[I 2024-02-19 14:14:40,352] Trial 9 finished with value: 2.3447271719988683 and parameters: {'lambda': 0.950097196629629, 'alpha': 5.6626772777479495, 'colsample_bytree': 1.0, 'subsample': 0.8, 'learning_rate': 0.02, 'max_depth': 17, 'random_state': 2020, 'min_child_weight': 209}. Best is trial 0 with value: 2.2416799535379983.\n",
      "[I 2024-02-19 14:15:59,179] Trial 10 finished with value: 2.2638167285901156 and parameters: {'lambda': 6.983945543643193, 'alpha': 0.017107642789387256, 'colsample_bytree': 0.5, 'subsample': 0.7, 'learning_rate': 0.008, 'max_depth': 15, 'random_state': 2020, 'min_child_weight': 120}. Best is trial 0 with value: 2.2416799535379983.\n",
      "[I 2024-02-19 14:16:36,157] Trial 11 finished with value: 2.2486161920962746 and parameters: {'lambda': 6.304543471767977, 'alpha': 0.15390405727749967, 'colsample_bytree': 0.3, 'subsample': 0.7, 'learning_rate': 0.018, 'max_depth': 5, 'random_state': 2020, 'min_child_weight': 166}. Best is trial 0 with value: 2.2416799535379983.\n",
      "[I 2024-02-19 14:17:22,569] Trial 12 finished with value: 2.2575135041241845 and parameters: {'lambda': 9.145333478715905, 'alpha': 2.153461615339623, 'colsample_bytree': 0.9, 'subsample': 1.0, 'learning_rate': 0.01, 'max_depth': 9, 'random_state': 2020, 'min_child_weight': 145}. Best is trial 0 with value: 2.2416799535379983.\n",
      "[I 2024-02-19 14:17:55,842] Trial 13 finished with value: 2.2480346550215557 and parameters: {'lambda': 5.405443700426302, 'alpha': 2.229618618555489, 'colsample_bytree': 0.3, 'subsample': 0.7, 'learning_rate': 0.008, 'max_depth': 5, 'random_state': 2020, 'min_child_weight': 205}. Best is trial 0 with value: 2.2416799535379983.\n",
      "[I 2024-02-19 14:18:31,963] Trial 14 finished with value: 2.2347716548038496 and parameters: {'lambda': 5.811735997560085, 'alpha': 1.9181948881398794, 'colsample_bytree': 0.6, 'subsample': 0.7, 'learning_rate': 0.008, 'max_depth': 5, 'random_state': 2020, 'min_child_weight': 113}. Best is trial 14 with value: 2.2347716548038496.\n",
      "[I 2024-02-19 14:19:06,822] Trial 15 finished with value: 2.2353804872247056 and parameters: {'lambda': 7.422591607201745, 'alpha': 1.6392153032228234, 'colsample_bytree': 0.6, 'subsample': 0.7, 'learning_rate': 0.008, 'max_depth': 5, 'random_state': 2020, 'min_child_weight': 93}. Best is trial 14 with value: 2.2347716548038496.\n",
      "[I 2024-02-19 14:20:17,568] Trial 16 finished with value: 2.265597053171299 and parameters: {'lambda': 9.913640573956727, 'alpha': 2.5061890813792767, 'colsample_bytree': 0.6, 'subsample': 0.7, 'learning_rate': 0.008, 'max_depth': 13, 'random_state': 2020, 'min_child_weight': 88}. Best is trial 14 with value: 2.2347716548038496.\n",
      "[I 2024-02-19 14:21:09,153] Trial 17 finished with value: 2.2510360789076915 and parameters: {'lambda': 5.50792882509936, 'alpha': 3.3166071605837812, 'colsample_bytree': 0.6, 'subsample': 0.4, 'learning_rate': 0.012, 'max_depth': 9, 'random_state': 2020, 'min_child_weight': 95}. Best is trial 14 with value: 2.2347716548038496.\n",
      "[I 2024-02-19 14:22:08,682] Trial 18 finished with value: 2.2697526774556187 and parameters: {'lambda': 8.349659820648306, 'alpha': 6.103611049453539, 'colsample_bytree': 0.6, 'subsample': 0.5, 'learning_rate': 0.018, 'max_depth': 11, 'random_state': 2020, 'min_child_weight': 80}. Best is trial 14 with value: 2.2347716548038496.\n",
      "[I 2024-02-19 14:23:21,999] Trial 19 finished with value: 2.2829685412419702 and parameters: {'lambda': 4.627383967531788, 'alpha': 1.2565493100710126, 'colsample_bytree': 0.6, 'subsample': 0.7, 'learning_rate': 0.02, 'max_depth': 15, 'random_state': 2020, 'min_child_weight': 126}. Best is trial 14 with value: 2.2347716548038496.\n",
      "[I 2024-02-19 14:23:56,272] Trial 20 finished with value: 2.2348109559309632 and parameters: {'lambda': 7.7421688206753, 'alpha': 1.4118567271666254, 'colsample_bytree': 0.6, 'subsample': 0.7, 'learning_rate': 0.008, 'max_depth': 5, 'random_state': 2020, 'min_child_weight': 112}. Best is trial 14 with value: 2.2347716548038496.\n",
      "[I 2024-02-19 14:24:31,233] Trial 21 finished with value: 2.244857093845034 and parameters: {'lambda': 7.675783207756011, 'alpha': 1.4287967562629584, 'colsample_bytree': 0.6, 'subsample': 0.7, 'learning_rate': 0.008, 'max_depth': 5, 'random_state': 2020, 'min_child_weight': 1}. Best is trial 14 with value: 2.2347716548038496.\n",
      "[I 2024-02-19 14:25:06,155] Trial 22 finished with value: 2.2346286533327078 and parameters: {'lambda': 6.207119112012074, 'alpha': 3.1327331846522792, 'colsample_bytree': 0.6, 'subsample': 0.7, 'learning_rate': 0.008, 'max_depth': 5, 'random_state': 2020, 'min_child_weight': 119}. Best is trial 22 with value: 2.2346286533327078.\n",
      "[I 2024-02-19 14:25:40,936] Trial 23 finished with value: 2.2335887140660033 and parameters: {'lambda': 6.303436542489944, 'alpha': 3.201242151637115, 'colsample_bytree': 0.6, 'subsample': 0.7, 'learning_rate': 0.008, 'max_depth': 5, 'random_state': 2020, 'min_child_weight': 139}. Best is trial 23 with value: 2.2335887140660033.\n",
      "[I 2024-02-19 14:26:15,052] Trial 24 finished with value: 2.2339988889893125 and parameters: {'lambda': 5.908623148573082, 'alpha': 3.1817440006670257, 'colsample_bytree': 0.7, 'subsample': 0.7, 'learning_rate': 0.008, 'max_depth': 5, 'random_state': 2020, 'min_child_weight': 132}. Best is trial 23 with value: 2.2335887140660033.\n",
      "[I 2024-02-19 14:26:49,750] Trial 25 finished with value: 2.233348845227297 and parameters: {'lambda': 6.4937619142814516, 'alpha': 3.298432168867441, 'colsample_bytree': 0.7, 'subsample': 0.7, 'learning_rate': 0.008, 'max_depth': 5, 'random_state': 2020, 'min_child_weight': 150}. Best is trial 25 with value: 2.233348845227297.\n",
      "[I 2024-02-19 14:27:25,350] Trial 26 finished with value: 2.2317058510047847 and parameters: {'lambda': 4.937846217870659, 'alpha': 3.578416122563689, 'colsample_bytree': 0.7, 'subsample': 0.5, 'learning_rate': 0.008, 'max_depth': 5, 'random_state': 2020, 'min_child_weight': 222}. Best is trial 26 with value: 2.2317058510047847.\n",
      "[I 2024-02-19 14:28:22,034] Trial 27 finished with value: 2.247790276897355 and parameters: {'lambda': 4.717255667275292, 'alpha': 6.1269156324557645, 'colsample_bytree': 0.7, 'subsample': 0.5, 'learning_rate': 0.014, 'max_depth': 11, 'random_state': 2020, 'min_child_weight': 226}. Best is trial 26 with value: 2.2317058510047847.\n",
      "[I 2024-02-19 14:29:28,162] Trial 28 finished with value: 2.247780460617853 and parameters: {'lambda': 6.68711513671064, 'alpha': 4.03460578668891, 'colsample_bytree': 0.7, 'subsample': 0.5, 'learning_rate': 0.012, 'max_depth': 13, 'random_state': 2020, 'min_child_weight': 235}. Best is trial 26 with value: 2.2317058510047847.\n",
      "[I 2024-02-19 14:30:05,336] Trial 29 finished with value: 2.2308354083599675 and parameters: {'lambda': 8.58600777460456, 'alpha': 5.322150421377522, 'colsample_bytree': 0.7, 'subsample': 0.5, 'learning_rate': 0.008, 'max_depth': 5, 'random_state': 2020, 'min_child_weight': 296}. Best is trial 29 with value: 2.2308354083599675.\n",
      "[I 2024-02-19 14:30:48,175] Trial 30 finished with value: 2.240028107686812 and parameters: {'lambda': 9.030754726684261, 'alpha': 6.94748658869946, 'colsample_bytree': 0.7, 'subsample': 0.5, 'learning_rate': 0.018, 'max_depth': 7, 'random_state': 2020, 'min_child_weight': 297}. Best is trial 29 with value: 2.2308354083599675.\n",
      "[I 2024-02-19 14:31:24,076] Trial 31 finished with value: 2.232208268153954 and parameters: {'lambda': 8.679711848948786, 'alpha': 5.369093679910319, 'colsample_bytree': 0.7, 'subsample': 0.5, 'learning_rate': 0.008, 'max_depth': 5, 'random_state': 2020, 'min_child_weight': 169}. Best is trial 29 with value: 2.2308354083599675.\n",
      "[I 2024-02-19 14:31:58,998] Trial 32 finished with value: 2.232301798921591 and parameters: {'lambda': 8.464206072394669, 'alpha': 5.396398387423498, 'colsample_bytree': 0.7, 'subsample': 0.5, 'learning_rate': 0.008, 'max_depth': 5, 'random_state': 2020, 'min_child_weight': 167}. Best is trial 29 with value: 2.2308354083599675.\n",
      "[I 2024-02-19 14:32:35,221] Trial 33 finished with value: 2.2317281202612915 and parameters: {'lambda': 8.580605198716023, 'alpha': 5.436403916666777, 'colsample_bytree': 0.7, 'subsample': 0.5, 'learning_rate': 0.008, 'max_depth': 5, 'random_state': 2020, 'min_child_weight': 178}. Best is trial 29 with value: 2.2308354083599675.\n",
      "[I 2024-02-19 14:33:25,509] Trial 34 finished with value: 2.2483695507648993 and parameters: {'lambda': 9.732237770953093, 'alpha': 6.810541175275475, 'colsample_bytree': 0.7, 'subsample': 0.5, 'learning_rate': 0.016, 'max_depth': 9, 'random_state': 2020, 'min_child_weight': 190}. Best is trial 29 with value: 2.2308354083599675.\n",
      "[I 2024-02-19 14:34:01,659] Trial 35 finished with value: 2.2339091929055304 and parameters: {'lambda': 8.976378162058221, 'alpha': 4.243203595643355, 'colsample_bytree': 0.8, 'subsample': 0.5, 'learning_rate': 0.008, 'max_depth': 5, 'random_state': 2020, 'min_child_weight': 296}. Best is trial 29 with value: 2.2308354083599675.\n",
      "[I 2024-02-19 14:35:10,681] Trial 36 finished with value: 2.2616734224683976 and parameters: {'lambda': 7.187014926563883, 'alpha': 5.143400206014303, 'colsample_bytree': 0.7, 'subsample': 0.5, 'learning_rate': 0.02, 'max_depth': 15, 'random_state': 2020, 'min_child_weight': 183}. Best is trial 29 with value: 2.2308354083599675.\n",
      "[I 2024-02-19 14:36:13,050] Trial 37 finished with value: 2.252802668232195 and parameters: {'lambda': 8.192435116134469, 'alpha': 6.913872412381166, 'colsample_bytree': 0.9, 'subsample': 0.5, 'learning_rate': 0.008, 'max_depth': 11, 'random_state': 2020, 'min_child_weight': 233}. Best is trial 29 with value: 2.2308354083599675.\n",
      "[I 2024-02-19 14:37:04,124] Trial 38 finished with value: 2.250030966464017 and parameters: {'lambda': 2.5342238739228256, 'alpha': 4.801548304610598, 'colsample_bytree': 0.4, 'subsample': 0.5, 'learning_rate': 0.016, 'max_depth': 17, 'random_state': 2020, 'min_child_weight': 276}. Best is trial 29 with value: 2.2308354083599675.\n",
      "[I 2024-02-19 14:37:46,063] Trial 39 finished with value: 2.2380883724146288 and parameters: {'lambda': 4.124470716604636, 'alpha': 5.950063871304157, 'colsample_bytree': 0.5, 'subsample': 0.6, 'learning_rate': 0.01, 'max_depth': 7, 'random_state': 2020, 'min_child_weight': 250}. Best is trial 29 with value: 2.2308354083599675.\n",
      "[I 2024-02-19 14:38:22,501] Trial 40 finished with value: 2.2357473605647584 and parameters: {'lambda': 3.2723439445042732, 'alpha': 3.7499821097205523, 'colsample_bytree': 0.7, 'subsample': 0.5, 'learning_rate': 0.014, 'max_depth': 5, 'random_state': 2020, 'min_child_weight': 166}. Best is trial 29 with value: 2.2308354083599675.\n",
      "[I 2024-02-19 14:38:57,569] Trial 41 finished with value: 2.2315826366806912 and parameters: {'lambda': 8.623706579941345, 'alpha': 5.333719681724232, 'colsample_bytree': 0.7, 'subsample': 0.5, 'learning_rate': 0.008, 'max_depth': 5, 'random_state': 2020, 'min_child_weight': 181}. Best is trial 29 with value: 2.2308354083599675.\n",
      "[I 2024-02-19 14:39:31,956] Trial 42 finished with value: 2.2319050350898424 and parameters: {'lambda': 9.502891023893246, 'alpha': 4.606371821414966, 'colsample_bytree': 0.7, 'subsample': 0.5, 'learning_rate': 0.008, 'max_depth': 5, 'random_state': 2020, 'min_child_weight': 206}. Best is trial 29 with value: 2.2308354083599675.\n",
      "[I 2024-02-19 14:40:06,966] Trial 43 finished with value: 2.232646412882698 and parameters: {'lambda': 9.496330302734322, 'alpha': 4.54747828588099, 'colsample_bytree': 0.7, 'subsample': 0.8, 'learning_rate': 0.008, 'max_depth': 5, 'random_state': 2020, 'min_child_weight': 207}. Best is trial 29 with value: 2.2308354083599675.\n",
      "[I 2024-02-19 14:40:42,576] Trial 44 finished with value: 2.231114981105639 and parameters: {'lambda': 9.360281232039322, 'alpha': 6.617574302583474, 'colsample_bytree': 0.7, 'subsample': 0.4, 'learning_rate': 0.008, 'max_depth': 5, 'random_state': 2020, 'min_child_weight': 222}. Best is trial 29 with value: 2.2308354083599675.\n",
      "[I 2024-02-19 14:41:17,782] Trial 45 finished with value: 2.236398528222862 and parameters: {'lambda': 7.71510541190886, 'alpha': 7.52212234629492, 'colsample_bytree': 0.8, 'subsample': 0.4, 'learning_rate': 0.012, 'max_depth': 5, 'random_state': 2020, 'min_child_weight': 275}. Best is trial 29 with value: 2.2308354083599675.\n",
      "[I 2024-02-19 14:42:40,769] Trial 46 finished with value: 2.2628258693558387 and parameters: {'lambda': 8.686029634663779, 'alpha': 6.606209447216889, 'colsample_bytree': 1.0, 'subsample': 0.4, 'learning_rate': 0.008, 'max_depth': 17, 'random_state': 2020, 'min_child_weight': 221}. Best is trial 29 with value: 2.2308354083599675.\n",
      "[I 2024-02-19 14:43:36,663] Trial 47 finished with value: 2.2464047687420523 and parameters: {'lambda': 8.03827955341762, 'alpha': 7.452084417667172, 'colsample_bytree': 0.7, 'subsample': 1.0, 'learning_rate': 0.01, 'max_depth': 13, 'random_state': 2020, 'min_child_weight': 245}. Best is trial 29 with value: 2.2308354083599675.\n",
      "[I 2024-02-19 14:44:07,532] Trial 48 finished with value: 2.2485828869978848 and parameters: {'lambda': 9.319793309479033, 'alpha': 5.730169362782144, 'colsample_bytree': 0.4, 'subsample': 0.4, 'learning_rate': 0.008, 'max_depth': 5, 'random_state': 2020, 'min_child_weight': 192}. Best is trial 29 with value: 2.2308354083599675.\n",
      "[I 2024-02-19 14:44:43,335] Trial 49 finished with value: 2.2380340426731657 and parameters: {'lambda': 9.947133875890087, 'alpha': 8.42740933306834, 'colsample_bytree': 0.5, 'subsample': 0.6, 'learning_rate': 0.02, 'max_depth': 5, 'random_state': 2020, 'min_child_weight': 180}. Best is trial 29 with value: 2.2308354083599675.\n"
     ]
    },
    {
     "name": "stdout",
     "output_type": "stream",
     "text": [
      "Number of finished trials: 50\n",
      "Best trial: {'lambda': 8.58600777460456, 'alpha': 5.322150421377522, 'colsample_bytree': 0.7, 'subsample': 0.5, 'learning_rate': 0.008, 'max_depth': 5, 'random_state': 2020, 'min_child_weight': 296}\n"
     ]
    }
   ],
   "source": [
    "# running optuna optimizations study\n",
    "study = optuna.create_study(direction=\"minimize\")\n",
    "study.optimize(objective, n_trials=50)\n",
    "print(\"Number of finished trials:\", len(study.trials))\n",
    "print(\"Best trial:\", study.best_trial.params)"
   ]
  },
  {
   "cell_type": "code",
   "execution_count": 10,
   "metadata": {},
   "outputs": [
    {
     "data": {
      "application/vnd.plotly.v1+json": {
       "config": {
        "plotlyServerURL": "https://plot.ly"
       },
       "data": [
        {
         "mode": "markers",
         "name": "Objective Value",
         "type": "scatter",
         "x": [
          0,
          1,
          2,
          3,
          4,
          5,
          6,
          7,
          8,
          9,
          10,
          11,
          12,
          13,
          14,
          15,
          16,
          17,
          18,
          19,
          20,
          21,
          22,
          23,
          24,
          25,
          26,
          27,
          28,
          29,
          30,
          31,
          32,
          33,
          34,
          35,
          36,
          37,
          38,
          39,
          40,
          41,
          42,
          43,
          44,
          45,
          46,
          47,
          48,
          49
         ],
         "y": [
          2.2416799535379983,
          2.307081604454937,
          2.4622087219792412,
          2.2480902755369834,
          2.253857288853599,
          2.2491163506831695,
          2.280609525913521,
          2.249663195976092,
          2.2483619749548445,
          2.3447271719988683,
          2.2638167285901156,
          2.2486161920962746,
          2.2575135041241845,
          2.2480346550215557,
          2.2347716548038496,
          2.2353804872247056,
          2.265597053171299,
          2.2510360789076915,
          2.2697526774556187,
          2.2829685412419702,
          2.2348109559309632,
          2.244857093845034,
          2.2346286533327078,
          2.2335887140660033,
          2.2339988889893125,
          2.233348845227297,
          2.2317058510047847,
          2.247790276897355,
          2.247780460617853,
          2.2308354083599675,
          2.240028107686812,
          2.232208268153954,
          2.232301798921591,
          2.2317281202612915,
          2.2483695507648993,
          2.2339091929055304,
          2.2616734224683976,
          2.252802668232195,
          2.250030966464017,
          2.2380883724146288,
          2.2357473605647584,
          2.2315826366806912,
          2.2319050350898424,
          2.232646412882698,
          2.231114981105639,
          2.236398528222862,
          2.2628258693558387,
          2.2464047687420523,
          2.2485828869978848,
          2.2380340426731657
         ]
        },
        {
         "mode": "lines",
         "name": "Best Value",
         "type": "scatter",
         "x": [
          0,
          1,
          2,
          3,
          4,
          5,
          6,
          7,
          8,
          9,
          10,
          11,
          12,
          13,
          14,
          15,
          16,
          17,
          18,
          19,
          20,
          21,
          22,
          23,
          24,
          25,
          26,
          27,
          28,
          29,
          30,
          31,
          32,
          33,
          34,
          35,
          36,
          37,
          38,
          39,
          40,
          41,
          42,
          43,
          44,
          45,
          46,
          47,
          48,
          49
         ],
         "y": [
          2.2416799535379983,
          2.2416799535379983,
          2.2416799535379983,
          2.2416799535379983,
          2.2416799535379983,
          2.2416799535379983,
          2.2416799535379983,
          2.2416799535379983,
          2.2416799535379983,
          2.2416799535379983,
          2.2416799535379983,
          2.2416799535379983,
          2.2416799535379983,
          2.2416799535379983,
          2.2347716548038496,
          2.2347716548038496,
          2.2347716548038496,
          2.2347716548038496,
          2.2347716548038496,
          2.2347716548038496,
          2.2347716548038496,
          2.2347716548038496,
          2.2346286533327078,
          2.2335887140660033,
          2.2335887140660033,
          2.233348845227297,
          2.2317058510047847,
          2.2317058510047847,
          2.2317058510047847,
          2.2308354083599675,
          2.2308354083599675,
          2.2308354083599675,
          2.2308354083599675,
          2.2308354083599675,
          2.2308354083599675,
          2.2308354083599675,
          2.2308354083599675,
          2.2308354083599675,
          2.2308354083599675,
          2.2308354083599675,
          2.2308354083599675,
          2.2308354083599675,
          2.2308354083599675,
          2.2308354083599675,
          2.2308354083599675,
          2.2308354083599675,
          2.2308354083599675,
          2.2308354083599675,
          2.2308354083599675,
          2.2308354083599675
         ]
        },
        {
         "marker": {
          "color": "#cccccc"
         },
         "mode": "markers",
         "name": "Infeasible Trial",
         "showlegend": false,
         "type": "scatter",
         "x": [],
         "y": []
        }
       ],
       "layout": {
        "template": {
         "data": {
          "bar": [
           {
            "error_x": {
             "color": "#2a3f5f"
            },
            "error_y": {
             "color": "#2a3f5f"
            },
            "marker": {
             "line": {
              "color": "#E5ECF6",
              "width": 0.5
             },
             "pattern": {
              "fillmode": "overlay",
              "size": 10,
              "solidity": 0.2
             }
            },
            "type": "bar"
           }
          ],
          "barpolar": [
           {
            "marker": {
             "line": {
              "color": "#E5ECF6",
              "width": 0.5
             },
             "pattern": {
              "fillmode": "overlay",
              "size": 10,
              "solidity": 0.2
             }
            },
            "type": "barpolar"
           }
          ],
          "carpet": [
           {
            "aaxis": {
             "endlinecolor": "#2a3f5f",
             "gridcolor": "white",
             "linecolor": "white",
             "minorgridcolor": "white",
             "startlinecolor": "#2a3f5f"
            },
            "baxis": {
             "endlinecolor": "#2a3f5f",
             "gridcolor": "white",
             "linecolor": "white",
             "minorgridcolor": "white",
             "startlinecolor": "#2a3f5f"
            },
            "type": "carpet"
           }
          ],
          "choropleth": [
           {
            "colorbar": {
             "outlinewidth": 0,
             "ticks": ""
            },
            "type": "choropleth"
           }
          ],
          "contour": [
           {
            "colorbar": {
             "outlinewidth": 0,
             "ticks": ""
            },
            "colorscale": [
             [
              0,
              "#0d0887"
             ],
             [
              0.1111111111111111,
              "#46039f"
             ],
             [
              0.2222222222222222,
              "#7201a8"
             ],
             [
              0.3333333333333333,
              "#9c179e"
             ],
             [
              0.4444444444444444,
              "#bd3786"
             ],
             [
              0.5555555555555556,
              "#d8576b"
             ],
             [
              0.6666666666666666,
              "#ed7953"
             ],
             [
              0.7777777777777778,
              "#fb9f3a"
             ],
             [
              0.8888888888888888,
              "#fdca26"
             ],
             [
              1,
              "#f0f921"
             ]
            ],
            "type": "contour"
           }
          ],
          "contourcarpet": [
           {
            "colorbar": {
             "outlinewidth": 0,
             "ticks": ""
            },
            "type": "contourcarpet"
           }
          ],
          "heatmap": [
           {
            "colorbar": {
             "outlinewidth": 0,
             "ticks": ""
            },
            "colorscale": [
             [
              0,
              "#0d0887"
             ],
             [
              0.1111111111111111,
              "#46039f"
             ],
             [
              0.2222222222222222,
              "#7201a8"
             ],
             [
              0.3333333333333333,
              "#9c179e"
             ],
             [
              0.4444444444444444,
              "#bd3786"
             ],
             [
              0.5555555555555556,
              "#d8576b"
             ],
             [
              0.6666666666666666,
              "#ed7953"
             ],
             [
              0.7777777777777778,
              "#fb9f3a"
             ],
             [
              0.8888888888888888,
              "#fdca26"
             ],
             [
              1,
              "#f0f921"
             ]
            ],
            "type": "heatmap"
           }
          ],
          "heatmapgl": [
           {
            "colorbar": {
             "outlinewidth": 0,
             "ticks": ""
            },
            "colorscale": [
             [
              0,
              "#0d0887"
             ],
             [
              0.1111111111111111,
              "#46039f"
             ],
             [
              0.2222222222222222,
              "#7201a8"
             ],
             [
              0.3333333333333333,
              "#9c179e"
             ],
             [
              0.4444444444444444,
              "#bd3786"
             ],
             [
              0.5555555555555556,
              "#d8576b"
             ],
             [
              0.6666666666666666,
              "#ed7953"
             ],
             [
              0.7777777777777778,
              "#fb9f3a"
             ],
             [
              0.8888888888888888,
              "#fdca26"
             ],
             [
              1,
              "#f0f921"
             ]
            ],
            "type": "heatmapgl"
           }
          ],
          "histogram": [
           {
            "marker": {
             "pattern": {
              "fillmode": "overlay",
              "size": 10,
              "solidity": 0.2
             }
            },
            "type": "histogram"
           }
          ],
          "histogram2d": [
           {
            "colorbar": {
             "outlinewidth": 0,
             "ticks": ""
            },
            "colorscale": [
             [
              0,
              "#0d0887"
             ],
             [
              0.1111111111111111,
              "#46039f"
             ],
             [
              0.2222222222222222,
              "#7201a8"
             ],
             [
              0.3333333333333333,
              "#9c179e"
             ],
             [
              0.4444444444444444,
              "#bd3786"
             ],
             [
              0.5555555555555556,
              "#d8576b"
             ],
             [
              0.6666666666666666,
              "#ed7953"
             ],
             [
              0.7777777777777778,
              "#fb9f3a"
             ],
             [
              0.8888888888888888,
              "#fdca26"
             ],
             [
              1,
              "#f0f921"
             ]
            ],
            "type": "histogram2d"
           }
          ],
          "histogram2dcontour": [
           {
            "colorbar": {
             "outlinewidth": 0,
             "ticks": ""
            },
            "colorscale": [
             [
              0,
              "#0d0887"
             ],
             [
              0.1111111111111111,
              "#46039f"
             ],
             [
              0.2222222222222222,
              "#7201a8"
             ],
             [
              0.3333333333333333,
              "#9c179e"
             ],
             [
              0.4444444444444444,
              "#bd3786"
             ],
             [
              0.5555555555555556,
              "#d8576b"
             ],
             [
              0.6666666666666666,
              "#ed7953"
             ],
             [
              0.7777777777777778,
              "#fb9f3a"
             ],
             [
              0.8888888888888888,
              "#fdca26"
             ],
             [
              1,
              "#f0f921"
             ]
            ],
            "type": "histogram2dcontour"
           }
          ],
          "mesh3d": [
           {
            "colorbar": {
             "outlinewidth": 0,
             "ticks": ""
            },
            "type": "mesh3d"
           }
          ],
          "parcoords": [
           {
            "line": {
             "colorbar": {
              "outlinewidth": 0,
              "ticks": ""
             }
            },
            "type": "parcoords"
           }
          ],
          "pie": [
           {
            "automargin": true,
            "type": "pie"
           }
          ],
          "scatter": [
           {
            "fillpattern": {
             "fillmode": "overlay",
             "size": 10,
             "solidity": 0.2
            },
            "type": "scatter"
           }
          ],
          "scatter3d": [
           {
            "line": {
             "colorbar": {
              "outlinewidth": 0,
              "ticks": ""
             }
            },
            "marker": {
             "colorbar": {
              "outlinewidth": 0,
              "ticks": ""
             }
            },
            "type": "scatter3d"
           }
          ],
          "scattercarpet": [
           {
            "marker": {
             "colorbar": {
              "outlinewidth": 0,
              "ticks": ""
             }
            },
            "type": "scattercarpet"
           }
          ],
          "scattergeo": [
           {
            "marker": {
             "colorbar": {
              "outlinewidth": 0,
              "ticks": ""
             }
            },
            "type": "scattergeo"
           }
          ],
          "scattergl": [
           {
            "marker": {
             "colorbar": {
              "outlinewidth": 0,
              "ticks": ""
             }
            },
            "type": "scattergl"
           }
          ],
          "scattermapbox": [
           {
            "marker": {
             "colorbar": {
              "outlinewidth": 0,
              "ticks": ""
             }
            },
            "type": "scattermapbox"
           }
          ],
          "scatterpolar": [
           {
            "marker": {
             "colorbar": {
              "outlinewidth": 0,
              "ticks": ""
             }
            },
            "type": "scatterpolar"
           }
          ],
          "scatterpolargl": [
           {
            "marker": {
             "colorbar": {
              "outlinewidth": 0,
              "ticks": ""
             }
            },
            "type": "scatterpolargl"
           }
          ],
          "scatterternary": [
           {
            "marker": {
             "colorbar": {
              "outlinewidth": 0,
              "ticks": ""
             }
            },
            "type": "scatterternary"
           }
          ],
          "surface": [
           {
            "colorbar": {
             "outlinewidth": 0,
             "ticks": ""
            },
            "colorscale": [
             [
              0,
              "#0d0887"
             ],
             [
              0.1111111111111111,
              "#46039f"
             ],
             [
              0.2222222222222222,
              "#7201a8"
             ],
             [
              0.3333333333333333,
              "#9c179e"
             ],
             [
              0.4444444444444444,
              "#bd3786"
             ],
             [
              0.5555555555555556,
              "#d8576b"
             ],
             [
              0.6666666666666666,
              "#ed7953"
             ],
             [
              0.7777777777777778,
              "#fb9f3a"
             ],
             [
              0.8888888888888888,
              "#fdca26"
             ],
             [
              1,
              "#f0f921"
             ]
            ],
            "type": "surface"
           }
          ],
          "table": [
           {
            "cells": {
             "fill": {
              "color": "#EBF0F8"
             },
             "line": {
              "color": "white"
             }
            },
            "header": {
             "fill": {
              "color": "#C8D4E3"
             },
             "line": {
              "color": "white"
             }
            },
            "type": "table"
           }
          ]
         },
         "layout": {
          "annotationdefaults": {
           "arrowcolor": "#2a3f5f",
           "arrowhead": 0,
           "arrowwidth": 1
          },
          "autotypenumbers": "strict",
          "coloraxis": {
           "colorbar": {
            "outlinewidth": 0,
            "ticks": ""
           }
          },
          "colorscale": {
           "diverging": [
            [
             0,
             "#8e0152"
            ],
            [
             0.1,
             "#c51b7d"
            ],
            [
             0.2,
             "#de77ae"
            ],
            [
             0.3,
             "#f1b6da"
            ],
            [
             0.4,
             "#fde0ef"
            ],
            [
             0.5,
             "#f7f7f7"
            ],
            [
             0.6,
             "#e6f5d0"
            ],
            [
             0.7,
             "#b8e186"
            ],
            [
             0.8,
             "#7fbc41"
            ],
            [
             0.9,
             "#4d9221"
            ],
            [
             1,
             "#276419"
            ]
           ],
           "sequential": [
            [
             0,
             "#0d0887"
            ],
            [
             0.1111111111111111,
             "#46039f"
            ],
            [
             0.2222222222222222,
             "#7201a8"
            ],
            [
             0.3333333333333333,
             "#9c179e"
            ],
            [
             0.4444444444444444,
             "#bd3786"
            ],
            [
             0.5555555555555556,
             "#d8576b"
            ],
            [
             0.6666666666666666,
             "#ed7953"
            ],
            [
             0.7777777777777778,
             "#fb9f3a"
            ],
            [
             0.8888888888888888,
             "#fdca26"
            ],
            [
             1,
             "#f0f921"
            ]
           ],
           "sequentialminus": [
            [
             0,
             "#0d0887"
            ],
            [
             0.1111111111111111,
             "#46039f"
            ],
            [
             0.2222222222222222,
             "#7201a8"
            ],
            [
             0.3333333333333333,
             "#9c179e"
            ],
            [
             0.4444444444444444,
             "#bd3786"
            ],
            [
             0.5555555555555556,
             "#d8576b"
            ],
            [
             0.6666666666666666,
             "#ed7953"
            ],
            [
             0.7777777777777778,
             "#fb9f3a"
            ],
            [
             0.8888888888888888,
             "#fdca26"
            ],
            [
             1,
             "#f0f921"
            ]
           ]
          },
          "colorway": [
           "#636efa",
           "#EF553B",
           "#00cc96",
           "#ab63fa",
           "#FFA15A",
           "#19d3f3",
           "#FF6692",
           "#B6E880",
           "#FF97FF",
           "#FECB52"
          ],
          "font": {
           "color": "#2a3f5f"
          },
          "geo": {
           "bgcolor": "white",
           "lakecolor": "white",
           "landcolor": "#E5ECF6",
           "showlakes": true,
           "showland": true,
           "subunitcolor": "white"
          },
          "hoverlabel": {
           "align": "left"
          },
          "hovermode": "closest",
          "mapbox": {
           "style": "light"
          },
          "paper_bgcolor": "white",
          "plot_bgcolor": "#E5ECF6",
          "polar": {
           "angularaxis": {
            "gridcolor": "white",
            "linecolor": "white",
            "ticks": ""
           },
           "bgcolor": "#E5ECF6",
           "radialaxis": {
            "gridcolor": "white",
            "linecolor": "white",
            "ticks": ""
           }
          },
          "scene": {
           "xaxis": {
            "backgroundcolor": "#E5ECF6",
            "gridcolor": "white",
            "gridwidth": 2,
            "linecolor": "white",
            "showbackground": true,
            "ticks": "",
            "zerolinecolor": "white"
           },
           "yaxis": {
            "backgroundcolor": "#E5ECF6",
            "gridcolor": "white",
            "gridwidth": 2,
            "linecolor": "white",
            "showbackground": true,
            "ticks": "",
            "zerolinecolor": "white"
           },
           "zaxis": {
            "backgroundcolor": "#E5ECF6",
            "gridcolor": "white",
            "gridwidth": 2,
            "linecolor": "white",
            "showbackground": true,
            "ticks": "",
            "zerolinecolor": "white"
           }
          },
          "shapedefaults": {
           "line": {
            "color": "#2a3f5f"
           }
          },
          "ternary": {
           "aaxis": {
            "gridcolor": "white",
            "linecolor": "white",
            "ticks": ""
           },
           "baxis": {
            "gridcolor": "white",
            "linecolor": "white",
            "ticks": ""
           },
           "bgcolor": "#E5ECF6",
           "caxis": {
            "gridcolor": "white",
            "linecolor": "white",
            "ticks": ""
           }
          },
          "title": {
           "x": 0.05
          },
          "xaxis": {
           "automargin": true,
           "gridcolor": "white",
           "linecolor": "white",
           "ticks": "",
           "title": {
            "standoff": 15
           },
           "zerolinecolor": "white",
           "zerolinewidth": 2
          },
          "yaxis": {
           "automargin": true,
           "gridcolor": "white",
           "linecolor": "white",
           "ticks": "",
           "title": {
            "standoff": 15
           },
           "zerolinecolor": "white",
           "zerolinewidth": 2
          }
         }
        },
        "title": {
         "text": "Optimization History Plot"
        },
        "xaxis": {
         "title": {
          "text": "Trial"
         }
        },
        "yaxis": {
         "title": {
          "text": "Objective Value"
         }
        }
       }
      }
     },
     "metadata": {},
     "output_type": "display_data"
    }
   ],
   "source": [
    "# visualize optimization history\n",
    "optuna.visualization.plot_optimization_history(study)"
   ]
  },
  {
   "cell_type": "code",
   "execution_count": 11,
   "metadata": {},
   "outputs": [
    {
     "name": "stdout",
     "output_type": "stream",
     "text": [
      "the rmse of the final model is 2.492829116048651\n"
     ]
    }
   ],
   "source": [
    "# final model\n",
    "X_train, X_test, y_train, y_test = train_test_split(X, y, test_size=0.3)\n",
    "final_model = xgb.XGBRegressor(**study.best_trial.params)\n",
    "final_model.fit(\n",
    "    X_train,\n",
    "    y_train,\n",
    "    eval_set=[(X_test, y_test)],\n",
    "    verbose=0,\n",
    ")\n",
    "y_pred = final_model.predict(X_test)\n",
    "rmse = root_mean_squared_error(y_test, y_pred)\n",
    "print(f\"the rmse of the final model is {rmse}\")"
   ]
  },
  {
   "cell_type": "code",
   "execution_count": 15,
   "metadata": {},
   "outputs": [],
   "source": [
    "# saving final model\n",
    "final_model.save_model(\"../models/model.json\")"
   ]
  },
  {
   "cell_type": "markdown",
   "metadata": {},
   "source": [
    "sources:\n",
    "\n",
    "- https://forecastegy.com/posts/xgboost-hyperparameter-tuning-with-optuna/\n",
    "- https://medium.com/optuna/using-optuna-to-optimize-xgboost-hyperparameters-63bfcdfd3407\n",
    "- https://www.kaggle.com/code/hamzaghanmi/xgboost-catboost-using-optuna?scriptVersionId=94510532\n"
   ]
  }
 ],
 "metadata": {
  "kernelspec": {
   "display_name": "aae-in-blues-jslx",
   "language": "python",
   "name": "python3"
  },
  "language_info": {
   "codemirror_mode": {
    "name": "ipython",
    "version": 3
   },
   "file_extension": ".py",
   "mimetype": "text/x-python",
   "name": "python",
   "nbconvert_exporter": "python",
   "pygments_lexer": "ipython3",
   "version": "3.11.7"
  }
 },
 "nbformat": 4,
 "nbformat_minor": 2
}
